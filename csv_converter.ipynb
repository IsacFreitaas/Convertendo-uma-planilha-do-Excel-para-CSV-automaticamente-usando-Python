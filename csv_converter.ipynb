{
 "cells": [
  {
   "cell_type": "markdown",
   "metadata": {},
   "source": [
    "# Convertendo uma planilha do Excel (.xlsx) para CSV.\n",
    "\n",
    "#### Neste notebook, mostrarei um script simples em Python que automatiza esse processo. Para fazer isso, usaremos duas bibliotecas do Python:\n",
    "- Pandas,         <---- para ler e manipular base de dados.\n",
    "- OpenPyXl.         <----  extensão para o pandas trabalhar com o Excel.\n",
    "#### Para usar essas e outras bibliotecas no seu computador com Python, você precisará instalá-las."
   ]
  },
  {
   "cell_type": "markdown",
   "metadata": {},
   "source": [
    "# 1 - Instalação (Windows, Linux e MacOS):\n",
    "- !pip install pandas openpyxl (No Jupyter Notebook (.ipynb))\n",
    "- pip install pandas openpyxl (Terminal)\n",
    "\n",
    "### -> EM CASO DE ERRO NA INSTALAÇÃO TENTE AS SEGUINTES POSSIBILIDADES:\n",
    "- pip3 install pandas openpyxl\n",
    "- pip install pandas openpyxl --break-system-packages (USE COM CUIDADO!)"
   ]
  },
  {
   "cell_type": "markdown",
   "metadata": {},
   "source": [
    "# 2.1 - Script:\n",
    "\n",
    "### Agora com as bibliotecas instaladas, vamos por a mão na massa.\n",
    "#### Iniciamos importando o pandas pra dentro de nosso código (você precisa já ter ele instalado na sua máquina, como vimos no passo anterior). Para isso, fazemos assim:"
   ]
  },
  {
   "cell_type": "code",
   "execution_count": null,
   "metadata": {},
   "outputs": [],
   "source": [
    "import pandas"
   ]
  },
  {
   "cell_type": "markdown",
   "metadata": {},
   "source": [
    "#### Simples assim. Com importamos o Pandas pra dentro do nosso script Python. \n",
    "#### Agora precisamos especificar o local em que a planilha Excel que queremos converter está localizada em nosso computador. Fazemos assim:"
   ]
  },
  {
   "cell_type": "code",
   "execution_count": null,
   "metadata": {},
   "outputs": [],
   "source": [
    "# Caminho do Arquivo Excel\n",
    "excel_file = \"C:/Users/Usuario/Desktop/caminho_do_arquivo.xlsx\""
   ]
  },
  {
   "cell_type": "markdown",
   "metadata": {},
   "source": [
    "#### Porém, precisaremos do nome da página da planilha que usaremos mais na frente nesse script. Por exemplo, você tem uma planilha do Excel com várias páginas, mas você só quer converter para CSV uma delas. Pra isso vá no seu vizualizador de planilhas e verifique."
   ]
  },
  {
   "cell_type": "markdown",
   "metadata": {},
   "source": [
    "#### * No meu caso, o nome da página que estou vizualizando é \"Página2\""
   ]
  },
  {
   "cell_type": "code",
   "execution_count": null,
   "metadata": {},
   "outputs": [],
   "source": [
    "# Nome da página da planilha\n",
    "sheet_name = \"Página2\""
   ]
  },
  {
   "cell_type": "markdown",
   "metadata": {},
   "source": [
    "# 2.2 - Data frames:\n",
    "\n",
    "#### Agora, precisamos que o pandas leia essa planilha e armazene em uma variável, onde ficarão guardados esses dados.\n",
    "#### É comum esses dados serem guardados em uma variável \"DataFrames\" (ou só \"df\").\n",
    "#### Veja a seguir como se faz isso:"
   ]
  },
  {
   "cell_type": "code",
   "execution_count": 2,
   "metadata": {},
   "outputs": [
    {
     "ename": "NameError",
     "evalue": "name 'Pandas' is not defined",
     "output_type": "error",
     "traceback": [
      "\u001b[0;31m---------------------------------------------------------------------------\u001b[0m",
      "\u001b[0;31mNameError\u001b[0m                                 Traceback (most recent call last)",
      "\u001b[0;32m/tmp/ipykernel_10670/3807580592.py\u001b[0m in \u001b[0;36m<module>\u001b[0;34m\u001b[0m\n\u001b[1;32m      1\u001b[0m \u001b[0;31m# Ler a planilha do Excel e armazenar os dados no DataFrames\u001b[0m\u001b[0;34m\u001b[0m\u001b[0;34m\u001b[0m\u001b[0m\n\u001b[0;32m----> 2\u001b[0;31m DataFrames = Pandas.read_excel(excel_file, # Recebe o arquivo Excel\n\u001b[0m\u001b[1;32m      3\u001b[0m                                sheet_name=sheet_name) # Especifica a página da planilha\n",
      "\u001b[0;31mNameError\u001b[0m: name 'Pandas' is not defined"
     ]
    }
   ],
   "source": [
    "# Ler a planilha do Excel e armazenar os dados no DataFrames\n",
    "DataFrames = pandas.read_excel(excel_file, # Recebe o arquivo Excel\n",
    "                               sheet_name=sheet_name) # Especifica a página da planilha"
   ]
  },
  {
   "cell_type": "markdown",
   "metadata": {},
   "source": [
    "# 2.3 - Salvando o DataFrames em CSV e exportando:\n",
    "#### Para finalizar a conversão e salvar nosso arquivo, vamos precisar especificar o nome, ou o local que será salvo, pois essa variável sera usada no \"DataFrames.to_csv()\", pois devemos especificar no primeiro argumento o local de saida ou nome do arquivo. Após o arquivo ser salvo como CSV, iremos imprimir (print) que o arquivo foi salvo com sucesso, como vemos abaixo:"
   ]
  },
  {
   "cell_type": "code",
   "execution_count": null,
   "metadata": {},
   "outputs": [],
   "source": [
    "# Configurar o caminho de saída do arquivo e o nome\n",
    "csv_saida = \"C:/Users/Usuario/Desktop/caminho_de_saida.csv\"\n",
    "\n",
    "# Salvar DataFrames em CSV\n",
    "DataFrames.to_csv(csv_saida, index=False)\n",
    "\n",
    "print(f\"Arquivo CSV salvo como {csv_saida} com sucesso!\")"
   ]
  },
  {
   "cell_type": "markdown",
   "metadata": {},
   "source": [
    "# 3 - Fim\n",
    "#### Obrigado por me acompanhar até aqui.\n",
    "#### Caso fique alguma dúvida, me chama nas redes sociais que vou tentar te ajudar."
   ]
  }
 ],
 "metadata": {
  "kernelspec": {
   "display_name": "Python 3",
   "language": "python",
   "name": "python3"
  },
  "language_info": {
   "codemirror_mode": {
    "name": "ipython",
    "version": 3
   },
   "file_extension": ".py",
   "mimetype": "text/x-python",
   "name": "python",
   "nbconvert_exporter": "python",
   "pygments_lexer": "ipython3",
   "version": "3.10.12"
  }
 },
 "nbformat": 4,
 "nbformat_minor": 2
}
